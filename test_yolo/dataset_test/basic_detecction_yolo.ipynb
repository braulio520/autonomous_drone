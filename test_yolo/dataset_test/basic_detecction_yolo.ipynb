{
  "nbformat": 4,
  "nbformat_minor": 0,
  "metadata": {
    "colab": {
      "provenance": [],
      "gpuType": "T4"
    },
    "kernelspec": {
      "name": "python3",
      "display_name": "Python 3"
    },
    "language_info": {
      "name": "python"
    },
    "accelerator": "GPU"
  },
  "cells": [
    {
      "cell_type": "code",
      "execution_count": 1,
      "metadata": {
        "colab": {
          "base_uri": "https://localhost:8080/"
        },
        "id": "An4ZgqdqpDm5",
        "outputId": "f0fde70f-e462-48c2-ae60-566ab25ef15b"
      },
      "outputs": [
        {
          "output_type": "stream",
          "name": "stdout",
          "text": [
            "Python version: 3.10.12 (main, Jun  7 2023, 12:45:35) [GCC 9.4.0], sys.version_info(major=3, minor=10, micro=12, releaselevel='final', serial=0) \n",
            "Pytorch version: 2.0.1+cu118 \n"
          ]
        }
      ],
      "source": [
        "import sys\n",
        "import torch\n",
        "print(f\"Python version: {sys.version}, {sys.version_info} \")\n",
        "print(f\"Pytorch version: {torch.__version__} \")"
      ]
    },
    {
      "cell_type": "code",
      "source": [
        "!# Download YOLOv7 code\n",
        "!git clone https://github.com/WongKinYiu/yolov7\n",
        "%cd yolov7\n",
        "!ls"
      ],
      "metadata": {
        "colab": {
          "base_uri": "https://localhost:8080/"
        },
        "id": "1UGh6pL3peAX",
        "outputId": "5513c9ae-25c2-40ff-d1d1-298a533a267e"
      },
      "execution_count": 2,
      "outputs": [
        {
          "output_type": "stream",
          "name": "stdout",
          "text": [
            "Cloning into 'yolov7'...\n",
            "remote: Enumerating objects: 1185, done.\u001b[K\n",
            "remote: Total 1185 (delta 0), reused 0 (delta 0), pack-reused 1185\u001b[K\n",
            "Receiving objects: 100% (1185/1185), 74.23 MiB | 7.50 MiB/s, done.\n",
            "Resolving deltas: 100% (509/509), done.\n",
            "/content/yolov7\n",
            "cfg\tdetect.py  hubconf.py  models\t  requirements.txt  tools\t  utils\n",
            "data\texport.py  inference   paper\t  scripts\t    train_aux.py\n",
            "deploy\tfigure\t   LICENSE.md  README.md  test.py\t    train.py\n"
          ]
        }
      ]
    },
    {
      "cell_type": "code",
      "source": [
        "!# Download trained weights\n",
        "!wget https://github.com/WongKinYiu/yolov7/releases/download/v0.1/yolov7.pt"
      ],
      "metadata": {
        "id": "_vYkN-QCtJRe"
      },
      "execution_count": null,
      "outputs": []
    },
    {
      "cell_type": "code",
      "source": [
        "!# Detection\n",
        "!python detect.py --weights yolov7.pt --conf 0.25 --img-size 640 --source inference/external_dataset"
      ],
      "metadata": {
        "colab": {
          "base_uri": "https://localhost:8080/"
        },
        "id": "H7khTGcWtN8F",
        "outputId": "4a678a74-e2d6-45ad-a08f-950a8fbcf763"
      },
      "execution_count": 10,
      "outputs": [
        {
          "output_type": "stream",
          "name": "stdout",
          "text": [
            "Namespace(weights=['yolov7.pt'], source='inference/external_dataset', img_size=640, conf_thres=0.25, iou_thres=0.45, device='', view_img=False, save_txt=False, save_conf=False, nosave=False, classes=None, agnostic_nms=False, augment=False, update=False, project='runs/detect', name='exp', exist_ok=False, no_trace=False)\n",
            "YOLOR 🚀 v0.1-126-g84932d7 torch 2.0.1+cu118 CUDA:0 (Tesla T4, 15101.8125MB)\n",
            "\n",
            "Fusing layers... \n",
            "RepConv.fuse_repvgg_block\n",
            "RepConv.fuse_repvgg_block\n",
            "RepConv.fuse_repvgg_block\n",
            "Model Summary: 306 layers, 36905341 parameters, 6652669 gradients\n",
            " Convert model to Traced-model... \n",
            " traced_script_module saved! \n",
            " model is traced! \n",
            "\n",
            "/usr/local/lib/python3.10/dist-packages/torch/functional.py:504: UserWarning: torch.meshgrid: in an upcoming release, it will be required to pass the indexing argument. (Triggered internally at ../aten/src/ATen/native/TensorShape.cpp:3483.)\n",
            "  return _VF.meshgrid(tensors, **kwargs)  # type: ignore[attr-defined]\n",
            "5 persons, 12 cars, 4 trucks, Done. (17.1ms) Inference, (2.0ms) NMS\n",
            " The image with the result is saved in: runs/detect/exp2/image_1.jpg\n",
            "3 persons, Done. (16.8ms) Inference, (1.7ms) NMS\n",
            " The image with the result is saved in: runs/detect/exp2/image_10.jpg\n",
            "5 persons, 10 cars, 1 bus, 1 truck, 2 traffic lights, Done. (16.8ms) Inference, (1.2ms) NMS\n",
            " The image with the result is saved in: runs/detect/exp2/image_2.jpeg\n",
            "1 car, Done. (15.9ms) Inference, (1.1ms) NMS\n",
            " The image with the result is saved in: runs/detect/exp2/image_3.jpg\n",
            "19 persons, 2 motorcycles, 1 bench, 5 backpacks, 2 handbags, 2 cups, 1 cell phone, Done. (16.9ms) Inference, (1.7ms) NMS\n",
            " The image with the result is saved in: runs/detect/exp2/image_4.jpg\n",
            "1 car, Done. (16.9ms) Inference, (1.1ms) NMS\n",
            " The image with the result is saved in: runs/detect/exp2/image_5.jpg\n",
            "22 persons, 1 backpack, Done. (17.4ms) Inference, (1.2ms) NMS\n",
            " The image with the result is saved in: runs/detect/exp2/image_6.jpg\n",
            "10 cars, 2 trucks, 5 traffic lights, Done. (15.6ms) Inference, (1.1ms) NMS\n",
            " The image with the result is saved in: runs/detect/exp2/image_7.jpg\n",
            "19 persons, 11 cars, 1 motorcycle, 1 bus, 3 trucks, Done. (15.6ms) Inference, (1.1ms) NMS\n",
            " The image with the result is saved in: runs/detect/exp2/image_8.jpg\n",
            "1 motorcycle, 1 bus, 1 train, Done. (15.5ms) Inference, (1.2ms) NMS\n",
            " The image with the result is saved in: runs/detect/exp2/image_9.jpg\n",
            "Done. (2.404s)\n"
          ]
        }
      ]
    },
    {
      "cell_type": "code",
      "source": [
        "import shutil\n",
        "from google.colab import files\n",
        "\n",
        "# Define la ruta a la carpeta que deseas comprimir\n",
        "folder_to_zip = 'runs/detect/exp2'\n",
        "\n",
        "# Define la ruta y el nombre del archivo zip que deseas crear (sin la extensión .zip)\n",
        "output_zip = 'dataset_external_END'\n",
        "\n",
        "# Crea el archivo zip\n",
        "shutil.make_archive(output_zip, 'zip', folder_to_zip)\n",
        "\n",
        "# Descarga el archivo zip\n",
        "files.download(f'{output_zip}.zip')\n",
        "\n"
      ],
      "metadata": {
        "colab": {
          "base_uri": "https://localhost:8080/",
          "height": 17
        },
        "id": "cuiRULLq8qpQ",
        "outputId": "8d99269f-db49-46eb-d7f3-5dc465118106"
      },
      "execution_count": 12,
      "outputs": [
        {
          "output_type": "display_data",
          "data": {
            "text/plain": [
              "<IPython.core.display.Javascript object>"
            ],
            "application/javascript": [
              "\n",
              "    async function download(id, filename, size) {\n",
              "      if (!google.colab.kernel.accessAllowed) {\n",
              "        return;\n",
              "      }\n",
              "      const div = document.createElement('div');\n",
              "      const label = document.createElement('label');\n",
              "      label.textContent = `Downloading \"${filename}\": `;\n",
              "      div.appendChild(label);\n",
              "      const progress = document.createElement('progress');\n",
              "      progress.max = size;\n",
              "      div.appendChild(progress);\n",
              "      document.body.appendChild(div);\n",
              "\n",
              "      const buffers = [];\n",
              "      let downloaded = 0;\n",
              "\n",
              "      const channel = await google.colab.kernel.comms.open(id);\n",
              "      // Send a message to notify the kernel that we're ready.\n",
              "      channel.send({})\n",
              "\n",
              "      for await (const message of channel.messages) {\n",
              "        // Send a message to notify the kernel that we're ready.\n",
              "        channel.send({})\n",
              "        if (message.buffers) {\n",
              "          for (const buffer of message.buffers) {\n",
              "            buffers.push(buffer);\n",
              "            downloaded += buffer.byteLength;\n",
              "            progress.value = downloaded;\n",
              "          }\n",
              "        }\n",
              "      }\n",
              "      const blob = new Blob(buffers, {type: 'application/binary'});\n",
              "      const a = document.createElement('a');\n",
              "      a.href = window.URL.createObjectURL(blob);\n",
              "      a.download = filename;\n",
              "      div.appendChild(a);\n",
              "      a.click();\n",
              "      div.remove();\n",
              "    }\n",
              "  "
            ]
          },
          "metadata": {}
        },
        {
          "output_type": "display_data",
          "data": {
            "text/plain": [
              "<IPython.core.display.Javascript object>"
            ],
            "application/javascript": [
              "download(\"download_76728663-33c2-46f5-8604-8d90203f8c1d\", \"dataset_external_END.zip\", 6001760)"
            ]
          },
          "metadata": {}
        }
      ]
    },
    {
      "cell_type": "markdown",
      "source": [
        "**FOLDER CLEANUP**"
      ],
      "metadata": {
        "id": "PPPf90hd_IJD"
      }
    },
    {
      "cell_type": "code",
      "source": [
        "import shutil\n",
        "import os\n",
        "\n",
        "# Define la ruta a la carpeta que deseas vaciar\n",
        "folder_to_empty = 'runs/detect/exp'\n",
        "\n",
        "# Verifica que la carpeta exista\n",
        "if os.path.exists(folder_to_empty):\n",
        "    # Elimina todos los archivos y subcarpetas en la carpeta 'exp'\n",
        "    for filename in os.listdir(folder_to_empty):\n",
        "        file_path = os.path.join(folder_to_empty, filename)\n",
        "        try:\n",
        "            if os.path.isfile(file_path) or os.path.islink(file_path):\n",
        "                os.unlink(file_path)\n",
        "            elif os.path.isdir(file_path):\n",
        "                shutil.rmtree(file_path)\n",
        "        except Exception as e:\n",
        "            print(f'Failed to delete {file_path}. Reason: {e}')\n",
        "else:\n",
        "    print(f'The folder {folder_to_empty} does not exist')\n"
      ],
      "metadata": {
        "id": "QGwfJYcJ_Hs8"
      },
      "execution_count": 9,
      "outputs": []
    }
  ]
}